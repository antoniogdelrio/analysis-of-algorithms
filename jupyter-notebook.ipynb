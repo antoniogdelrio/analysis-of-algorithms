{
 "cells": [
  {
   "cell_type": "code",
   "execution_count": 1,
   "id": "8f619345-21dd-4c33-bd9f-1bc0ba5adf3b",
   "metadata": {},
   "outputs": [],
   "source": [
    "from ctypes import *"
   ]
  },
  {
   "cell_type": "code",
   "execution_count": 2,
   "id": "2252ecb0-8d3f-4ba7-a65b-e2fe43ec5807",
   "metadata": {},
   "outputs": [],
   "source": [
    "so_file = \"/mnt/c/Users/anton/OneDrive/Área de Trabalho/teste-lib-c-python/index.so\""
   ]
  },
  {
   "cell_type": "code",
   "execution_count": 3,
   "id": "25a2ee56-d7f3-40bd-9237-b8f2018435ca",
   "metadata": {},
   "outputs": [],
   "source": [
    "my_functions = CDLL(so_file)"
   ]
  },
  {
   "cell_type": "code",
   "execution_count": 4,
   "id": "bdf8bf8e-3b9a-468d-9f2c-3bfd511f2498",
   "metadata": {},
   "outputs": [
    {
     "name": "stdout",
     "output_type": "stream",
     "text": [
      "<class 'ctypes.CDLL'>\n"
     ]
    }
   ],
   "source": [
    "print(type(my_functions))"
   ]
  },
  {
   "cell_type": "code",
   "execution_count": 11,
   "id": "7a8d1453-82a1-4816-9450-cc539af73797",
   "metadata": {},
   "outputs": [],
   "source": [
    "size = 100000"
   ]
  },
  {
   "cell_type": "code",
   "execution_count": 12,
   "id": "b62f61ed-3074-4246-910d-b42b1d278b0f",
   "metadata": {},
   "outputs": [],
   "source": [
    "strategy = 3"
   ]
  },
  {
   "cell_type": "code",
   "execution_count": 13,
   "id": "bce62f89-50d4-4a59-9a99-83f6a8ce5b13",
   "metadata": {},
   "outputs": [],
   "source": [
    "insertion_sort_analysis = my_functions.insertionSortAnalysys"
   ]
  },
  {
   "cell_type": "code",
   "execution_count": 14,
   "id": "ff9666f4-2239-464e-8fe2-831378544718",
   "metadata": {},
   "outputs": [],
   "source": [
    "insertion_sort_analysis.restype = POINTER(c_float * 3)"
   ]
  },
  {
   "cell_type": "code",
   "execution_count": 15,
   "id": "a4d18f55-87db-4cd4-b6cf-35e3e1c5e0ea",
   "metadata": {},
   "outputs": [],
   "source": [
    "result = insertion_sort_analysis(size, strategy).contents"
   ]
  },
  {
   "cell_type": "code",
   "execution_count": 16,
   "id": "f085c0e6-8b40-45ad-89a3-52430759d97b",
   "metadata": {},
   "outputs": [
    {
     "name": "stdout",
     "output_type": "stream",
     "text": [
      "16.66374397277832 15.333211898803711 15.687684059143066\n"
     ]
    }
   ],
   "source": [
    "print(result[0], result[1], result[2])"
   ]
  },
  {
   "cell_type": "code",
   "execution_count": null,
   "id": "a63a50b5-733e-403f-a283-ce10740a61cd",
   "metadata": {},
   "outputs": [],
   "source": []
  }
 ],
 "metadata": {
  "kernelspec": {
   "display_name": "Python 3 (ipykernel)",
   "language": "python",
   "name": "python3"
  },
  "language_info": {
   "codemirror_mode": {
    "name": "ipython",
    "version": 3
   },
   "file_extension": ".py",
   "mimetype": "text/x-python",
   "name": "python",
   "nbconvert_exporter": "python",
   "pygments_lexer": "ipython3",
   "version": "3.10.4"
  }
 },
 "nbformat": 4,
 "nbformat_minor": 5
}
